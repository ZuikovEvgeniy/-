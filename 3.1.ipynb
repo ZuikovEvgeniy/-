{
 "cells": [
  {
   "cell_type": "code",
   "execution_count": null,
   "id": "e6a4efc4-ebaa-4179-8cb9-3e46659b964e",
   "metadata": {},
   "outputs": [
    {
     "name": "stdin",
     "output_type": "stream",
     "text": [
      "Считать до:  11\n"
     ]
    }
   ],
   "source": [
    "from functools import lru_cache\n",
    "\n",
    "\n",
    "cache = [1, 1]\n",
    "# @lru_cache()\n",
    "def fib(n, cache):\n",
    "    if n == 0 or n == 1:\n",
    "        cache[n] = 1\n",
    "        return 1\n",
    "    if cache[n] != 0:\n",
    "        return cache[n]\n",
    "    cache[n] = fib(n - 1, cache) + fib(n - 2, cache)\n",
    "    return cache[n]\n",
    "n = int(input('Считать до: '))\n",
    "cache = [0 for i in range(n + 1)]\n",
    "print(fib(n, cache))"
   ]
  },
  {
   "cell_type": "code",
   "execution_count": null,
   "id": "14a90684-add0-4d6d-bc3b-9baa1a3a0915",
   "metadata": {},
   "outputs": [],
   "source": []
  }
 ],
 "metadata": {
  "kernelspec": {
   "display_name": "anaconda-2024.02-py310",
   "language": "python",
   "name": "conda-env-anaconda-2024.02-py310-py"
  },
  "language_info": {
   "codemirror_mode": {
    "name": "ipython",
    "version": 3
   },
   "file_extension": ".py",
   "mimetype": "text/x-python",
   "name": "python",
   "nbconvert_exporter": "python",
   "pygments_lexer": "ipython3",
   "version": "3.10.14"
  }
 },
 "nbformat": 4,
 "nbformat_minor": 5
}
