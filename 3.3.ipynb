{
 "cells": [
  {
   "cell_type": "code",
   "execution_count": null,
   "id": "798b8a14-2a62-44cf-8f63-edc9a9e27957",
   "metadata": {},
   "outputs": [],
   "source": [
    "a, b = list(map(int, input().split()))\n",
    "k1, k2 = a, b\n",
    "\n",
    "while k1 != 0 and k2 != 0:\n",
    "    if k1 > k2:\n",
    "        k1 = k1 % k2\n",
    "    else:\n",
    "        k2 = k2 % k1\n",
    "d = k1 + k2\n",
    "x1, y1, x2, y2 = 0, 0, 0, 0\n",
    "while (a * x1 + b * y1 != d) or (y1 != int(y1)):\n",
    "    x1 += 1\n",
    "    y1 = (d - a * x1) / b\n",
    "\n",
    "while (a * x2 + b * y2 != d) or (x2 != int(x2)):\n",
    "    y2 += 1\n",
    "    x2 = (d - b * y2) / a\n",
    "\n",
    "if abs(x1) + abs(y1) < abs(x2) + abs(y2):\n",
    "    print(x1, int(y1), d)\n",
    "else:\n",
    "    print(int(x2), y2, d)"
   ]
  },
  {
   "cell_type": "code",
   "execution_count": null,
   "id": "85eecd49-420f-44d1-ae49-4281eff6f972",
   "metadata": {},
   "outputs": [],
   "source": []
  }
 ],
 "metadata": {
  "kernelspec": {
   "display_name": "anaconda-2024.02-py310",
   "language": "python",
   "name": "conda-env-anaconda-2024.02-py310-py"
  },
  "language_info": {
   "codemirror_mode": {
    "name": "ipython",
    "version": 3
   },
   "file_extension": ".py",
   "mimetype": "text/x-python",
   "name": "python",
   "nbconvert_exporter": "python",
   "pygments_lexer": "ipython3",
   "version": "3.10.14"
  }
 },
 "nbformat": 4,
 "nbformat_minor": 5
}
