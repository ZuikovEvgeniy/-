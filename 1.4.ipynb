{
 "cells": [
  {
   "cell_type": "code",
   "execution_count": 43,
   "id": "f49c38ed-e977-463e-b209-e82c94be4b68",
   "metadata": {},
   "outputs": [],
   "source": [
    "f = open('input.txt', 'r')\n",
    "text = f.read().split()\n",
    "a = text[-1]\n",
    "b = text[0: -1]\n",
    "c = a.join(b)\n",
    "d = eval(c)\n",
    "g = open('output.txt', 'w')\n",
    "g.write(str(d))\n",
    "f.close()\n",
    "g.close()"
   ]
  },
  {
   "cell_type": "code",
   "execution_count": null,
   "id": "5d04fbc8-b7cd-40a2-859c-b7b1167f60d3",
   "metadata": {},
   "outputs": [],
   "source": []
  },
  {
   "cell_type": "code",
   "execution_count": null,
   "id": "e50fc256-2e4e-4ab2-b408-2a34eed264af",
   "metadata": {},
   "outputs": [],
   "source": []
  }
 ],
 "metadata": {
  "kernelspec": {
   "display_name": "anaconda-2024.02-py310",
   "language": "python",
   "name": "conda-env-anaconda-2024.02-py310-py"
  },
  "language_info": {
   "codemirror_mode": {
    "name": "ipython",
    "version": 3
   },
   "file_extension": ".py",
   "mimetype": "text/x-python",
   "name": "python",
   "nbconvert_exporter": "python",
   "pygments_lexer": "ipython3",
   "version": "3.10.14"
  }
 },
 "nbformat": 4,
 "nbformat_minor": 5
}
