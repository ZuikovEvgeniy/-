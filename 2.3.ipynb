{
 "cells": [
  {
   "cell_type": "code",
   "execution_count": 10,
   "id": "299937fb-5a10-4d1c-b34c-570205757f0e",
   "metadata": {},
   "outputs": [
    {
     "name": "stdin",
     "output_type": "stream",
     "text": [
      " AWWA\n"
     ]
    },
    {
     "name": "stdout",
     "output_type": "stream",
     "text": [
      "AWWA is a mirrored string.\n"
     ]
    }
   ],
   "source": [
    "s = 'AHIMOTUVWXY18EJSZ'\n",
    "a = str(input())\n",
    "ans = a\n",
    "a = a.replace('3', 'E')\n",
    "a = a.replace('L', 'J')\n",
    "a = a.replace('2', 'S')\n",
    "a = a.replace('5', 'Z')\n",
    "\n",
    "\n",
    "is_palindrom = False\n",
    "if len(a) % 2 == 0:\n",
    "    if ans[:len(a) // 2] == ans[len(a) // 2:]:\n",
    "        is_palindrom = True\n",
    "elif len(a) % 2 == 1:\n",
    "    if (ans[:len(a) // 2] == ans[len(a) // 2 + 1:]):\n",
    "        is_palindrom = True\n",
    "for i in list(a):\n",
    "    is_mirrored = True\n",
    "    if i not in s:\n",
    "        is_mirrored = False\n",
    "        break\n",
    "if is_mirrored and is_palindrom:\n",
    "    print(f'{ans} is a mirrored palindrome.')\n",
    "elif is_palindrom and not(is_mirrored):\n",
    "    print(f'{ans} is a regular palindrome.')\n",
    "elif not(is_palindrom) and is_mirrored:\n",
    "    print(f'{ans} is a mirrored string.')\n",
    "elif not(is_mirrored) and not(is_palindrom):\n",
    "    print(f'{ans} is not a palindrome.')"
   ]
  },
  {
   "cell_type": "code",
   "execution_count": null,
   "id": "0401d4f5-33fd-433c-b573-e7287f88c057",
   "metadata": {},
   "outputs": [],
   "source": []
  }
 ],
 "metadata": {
  "kernelspec": {
   "display_name": "anaconda-2024.02-py310",
   "language": "python",
   "name": "conda-env-anaconda-2024.02-py310-py"
  },
  "language_info": {
   "codemirror_mode": {
    "name": "ipython",
    "version": 3
   },
   "file_extension": ".py",
   "mimetype": "text/x-python",
   "name": "python",
   "nbconvert_exporter": "python",
   "pygments_lexer": "ipython3",
   "version": "3.10.14"
  }
 },
 "nbformat": 4,
 "nbformat_minor": 5
}
