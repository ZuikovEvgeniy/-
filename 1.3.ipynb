{
 "cells": [
  {
   "cell_type": "code",
   "execution_count": 3,
   "id": "a6e0aff6-cfc3-4bfe-8937-ce389a9021ab",
   "metadata": {},
   "outputs": [
    {
     "name": "stdin",
     "output_type": "stream",
     "text": [
      " 1 1 8 10 16\n"
     ]
    },
    {
     "name": "stdout",
     "output_type": "stream",
     "text": [
      "4.182558210365094\n"
     ]
    }
   ],
   "source": [
    "import math\n",
    "a = list(map(int, input().split()))\n",
    "ans = 1\n",
    "for i in a:\n",
    "    ans *= i\n",
    "print(ans ** (1 / len(a)))"
   ]
  }
 ],
 "metadata": {
  "kernelspec": {
   "display_name": "anaconda-2024.02-py310",
   "language": "python",
   "name": "conda-env-anaconda-2024.02-py310-py"
  },
  "language_info": {
   "codemirror_mode": {
    "name": "ipython",
    "version": 3
   },
   "file_extension": ".py",
   "mimetype": "text/x-python",
   "name": "python",
   "nbconvert_exporter": "python",
   "pygments_lexer": "ipython3",
   "version": "3.10.14"
  }
 },
 "nbformat": 4,
 "nbformat_minor": 5
}
