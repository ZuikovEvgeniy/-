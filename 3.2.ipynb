{
 "cells": [
  {
   "cell_type": "code",
   "execution_count": 1,
   "id": "5a9524da-91d3-4038-94de-86b169ea0a95",
   "metadata": {},
   "outputs": [
    {
     "name": "stdin",
     "output_type": "stream",
     "text": [
      " 90\n"
     ]
    },
    {
     "name": "stdout",
     "output_type": "stream",
     "text": [
      "2\n",
      "3\n",
      "3\n",
      "5\n",
      "0.00025391578674316406\n"
     ]
    }
   ],
   "source": [
    "import time, sys\n",
    "sys.setrecursionlimit(10**9)\n",
    "a = int(input())\n",
    "\n",
    "t = time.time()\n",
    "def simple(a, i = 2):\n",
    "    if a == 1:\n",
    "        return\n",
    "    if a % i == 0:\n",
    "        print(i)\n",
    "        simple(a // i, i)\n",
    "    elif a % i != 0:\n",
    "        return simple(a, i = i + 1)\n",
    "simple(a)\n",
    "print(time.time() - t)\n",
    "\n",
    "# i = 2\n",
    "# while a != 1:\n",
    "#     while a % i == 0:\n",
    "#         print(i)\n",
    "#         a = a // i\n",
    "#     i += 1"
   ]
  },
  {
   "cell_type": "code",
   "execution_count": null,
   "id": "10ceae94-21f1-4e38-86ce-d09ebeb74dc5",
   "metadata": {},
   "outputs": [],
   "source": []
  }
 ],
 "metadata": {
  "kernelspec": {
   "display_name": "anaconda-2024.02-py310",
   "language": "python",
   "name": "conda-env-anaconda-2024.02-py310-py"
  },
  "language_info": {
   "codemirror_mode": {
    "name": "ipython",
    "version": 3
   },
   "file_extension": ".py",
   "mimetype": "text/x-python",
   "name": "python",
   "nbconvert_exporter": "python",
   "pygments_lexer": "ipython3",
   "version": "3.10.14"
  }
 },
 "nbformat": 4,
 "nbformat_minor": 5
}
