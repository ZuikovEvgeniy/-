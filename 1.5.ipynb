{
 "cells": [
  {
   "cell_type": "code",
   "execution_count": 4,
   "id": "d7c36ee7-c954-4f8d-9024-5c3fa182da7c",
   "metadata": {},
   "outputs": [
    {
     "name": "stdin",
     "output_type": "stream",
     "text": [
      " 4\n",
      " 10\n",
      " 2\n"
     ]
    },
    {
     "name": "stdout",
     "output_type": "stream",
     "text": [
      "100\n"
     ]
    }
   ],
   "source": [
    "N = int(input())\n",
    "b = int(input())\n",
    "c = int(input())\n",
    "def f(N, b, c):\n",
    "    n = str(N)[::-1]\n",
    "    ans = 0\n",
    "    k = ' '\n",
    "    for i in range(len(n)):\n",
    "        ans += int(n[i]) * (b ** i)\n",
    "        while ans != 0:\n",
    "            k += str(ans % c)\n",
    "            ans //= c\n",
    "        return k[::-1]\n",
    "\n",
    "print(int(f(N, b, c)))\n",
    "    "
   ]
  },
  {
   "cell_type": "code",
   "execution_count": null,
   "id": "bbb4434d-b582-477d-bfe1-138dd51ca2a3",
   "metadata": {},
   "outputs": [],
   "source": []
  }
 ],
 "metadata": {
  "kernelspec": {
   "display_name": "anaconda-2024.02-py310",
   "language": "python",
   "name": "conda-env-anaconda-2024.02-py310-py"
  },
  "language_info": {
   "codemirror_mode": {
    "name": "ipython",
    "version": 3
   },
   "file_extension": ".py",
   "mimetype": "text/x-python",
   "name": "python",
   "nbconvert_exporter": "python",
   "pygments_lexer": "ipython3",
   "version": "3.10.14"
  }
 },
 "nbformat": 4,
 "nbformat_minor": 5
}
