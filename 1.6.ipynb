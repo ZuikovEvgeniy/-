{
 "cells": [
  {
   "cell_type": "code",
   "execution_count": 24,
   "id": "9202cf0f-0105-4b49-a6fa-a6184c752dd6",
   "metadata": {},
   "outputs": [
    {
     "name": "stdout",
     "output_type": "stream",
     "text": [
      "16\n",
      "+\n",
      "32\n"
     ]
    }
   ],
   "source": [
    "f = open('input1.txt', 'r')\n",
    "a = list(map(int, f.readline().split()))\n",
    "s = list(map(str, f.readline()))\n",
    "s = s[0]\n",
    "z = int(f.readline())\n",
    "print(z)\n",
    "print(s)\n",
    "\n",
    "def toten(N, c):\n",
    "    n = str(N)[::-1]\n",
    "    ans = 0\n",
    "    for i in range(len(n)):\n",
    "        ans += int(n[i]) * (c ** i)\n",
    "    return ans\n",
    "\n",
    "def tcs(ans, c):\n",
    "    k = ''\n",
    "    while ans != 0:\n",
    "        k += str(ans % c)\n",
    "        ans //= c\n",
    "    return k[::-1]\n",
    "\n",
    "f = open('output1.txt', 'w')\n",
    "for i in range(len(a)):\n",
    "    a[i] = toten(a[i], z)\n",
    "if s == '+':\n",
    "    ans = sum(a)\n",
    "    f.write(tcs(ans, z))\n",
    "    print(tcs(ans, z))\n",
    "elif s == '-':\n",
    "    ans = a[0]\n",
    "    for i in range(1, len(a)):\n",
    "        ans -= a[i]\n",
    "    f.write(tcs(ans, z))\n",
    "    print(tcs(ans, z))\n",
    "elif s == '*':\n",
    "    ans = 1\n",
    "    for i in a:\n",
    "        ans *= i\n",
    "    f.write(tcs(ans, z))"
   ]
  },
  {
   "cell_type": "code",
   "execution_count": null,
   "id": "cb096b5b-d5d7-417b-aad0-fdd4d674fd9a",
   "metadata": {},
   "outputs": [],
   "source": []
  }
 ],
 "metadata": {
  "kernelspec": {
   "display_name": "anaconda-2024.02-py310",
   "language": "python",
   "name": "conda-env-anaconda-2024.02-py310-py"
  },
  "language_info": {
   "codemirror_mode": {
    "name": "ipython",
    "version": 3
   },
   "file_extension": ".py",
   "mimetype": "text/x-python",
   "name": "python",
   "nbconvert_exporter": "python",
   "pygments_lexer": "ipython3",
   "version": "3.10.14"
  }
 },
 "nbformat": 4,
 "nbformat_minor": 5
}
