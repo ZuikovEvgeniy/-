{
 "cells": [
  {
   "cell_type": "code",
   "execution_count": 3,
   "id": "e29c5bba-9c9d-41b1-8c03-f24ab128bf40",
   "metadata": {},
   "outputs": [
    {
     "name": "stdin",
     "output_type": "stream",
     "text": [
      " 5 1 2 5 4\n"
     ]
    },
    {
     "name": "stdout",
     "output_type": "stream",
     "text": [
      "3\n"
     ]
    }
   ],
   "source": [
    "ch = list(map(int, input().split()))\n",
    "n = ch[0]\n",
    "del ch[0]\n",
    "a = (i for i in range(1, 55))\n",
    "a = set(a)\n",
    "ch = set(ch)\n",
    "print(min(a - ch))"
   ]
  },
  {
   "cell_type": "code",
   "execution_count": null,
   "id": "e916a701-4d1e-4f5c-a358-0f9be1bd2123",
   "metadata": {},
   "outputs": [],
   "source": []
  }
 ],
 "metadata": {
  "kernelspec": {
   "display_name": "anaconda-2024.02-py310",
   "language": "python",
   "name": "conda-env-anaconda-2024.02-py310-py"
  },
  "language_info": {
   "codemirror_mode": {
    "name": "ipython",
    "version": 3
   },
   "file_extension": ".py",
   "mimetype": "text/x-python",
   "name": "python",
   "nbconvert_exporter": "python",
   "pygments_lexer": "ipython3",
   "version": "3.10.14"
  }
 },
 "nbformat": 4,
 "nbformat_minor": 5
}
