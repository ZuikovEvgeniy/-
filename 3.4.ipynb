{
 "cells": [
  {
   "cell_type": "code",
   "execution_count": 7,
   "id": "4031a85e-ff2d-439f-a8c5-36e4c6a81911",
   "metadata": {},
   "outputs": [
    {
     "name": "stdin",
     "output_type": "stream",
     "text": [
      " 11 c\n"
     ]
    },
    {
     "name": "stdout",
     "output_type": "stream",
     "text": [
      "c\n",
      "cc\n",
      "ccc\n",
      "cccc\n",
      "ccccc\n",
      "cccccc\n",
      "ccccc\n",
      "cccc\n",
      "ccc\n",
      "cc\n",
      "c\n"
     ]
    }
   ],
   "source": [
    "a, b = list(input().split())\n",
    "a = int(a)\n",
    "\n",
    "def triangle(h, symbol, depth = 1):\n",
    "    if h % 2 != 0 and depth == h // 2 + 1:\n",
    "        print(symbol * depth)\n",
    "        return\n",
    "    if h % 2 == 0 and depth == h // 2:\n",
    "        print(symbol * depth)\n",
    "        print(symbol * depth)\n",
    "        return\n",
    "    print(symbol * depth)\n",
    "\n",
    "    triangle(h, symbol, depth = depth + 1)\n",
    "\n",
    "    print(symbol * depth)\n",
    "    return\n",
    "\n",
    "triangle(a, b)"
   ]
  },
  {
   "cell_type": "code",
   "execution_count": null,
   "id": "e8adaabc-5ee2-437b-ba9a-c69416e2e2ac",
   "metadata": {},
   "outputs": [],
   "source": []
  }
 ],
 "metadata": {
  "kernelspec": {
   "display_name": "anaconda-2024.02-py310",
   "language": "python",
   "name": "conda-env-anaconda-2024.02-py310-py"
  },
  "language_info": {
   "codemirror_mode": {
    "name": "ipython",
    "version": 3
   },
   "file_extension": ".py",
   "mimetype": "text/x-python",
   "name": "python",
   "nbconvert_exporter": "python",
   "pygments_lexer": "ipython3",
   "version": "3.10.14"
  }
 },
 "nbformat": 4,
 "nbformat_minor": 5
}
